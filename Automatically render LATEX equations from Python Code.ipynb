{
 "cells": [
  {
   "cell_type": "code",
   "execution_count": 40,
   "metadata": {},
   "outputs": [
    {
     "name": "stdout",
     "output_type": "stream",
     "text": [
      "Requirement already satisfied: handcalcs in /Library/Frameworks/Python.framework/Versions/3.7/lib/python3.7/site-packages (0.8.1)\n",
      "Requirement already satisfied: pyparsing<3.0.0,>=2.4.7 in ./Library/Python/3.7/lib/python/site-packages (from handcalcs) (2.4.7)\n",
      "\u001b[33mWARNING: You are using pip version 19.2.3, however version 20.2.2 is available.\n",
      "You should consider upgrading via the 'pip install --upgrade pip' command.\u001b[0m\n"
     ]
    }
   ],
   "source": [
    "! pip3 install handcalcs"
   ]
  },
  {
   "cell_type": "code",
   "execution_count": 41,
   "metadata": {},
   "outputs": [],
   "source": [
    "import handcalcs.render"
   ]
  },
  {
   "cell_type": "code",
   "execution_count": 42,
   "metadata": {
    "scrolled": true
   },
   "outputs": [
    {
     "data": {
      "text/latex": [
       "\\[\n",
       "\\begin{aligned}\n",
       "a &= 3\\;\n",
       "\\\\[10pt]\n",
       "b &= 4\\;\n",
       "\\\\[10pt]\n",
       "c &= a \\cdot b \\cdot 2 = 3 \\cdot 4 \\cdot 2 &= 24\n",
       "\\\\[10pt]\n",
       "c &= 24\\;\n",
       "\\end{aligned}\n",
       "\\]"
      ],
      "text/plain": [
       "<IPython.core.display.Latex object>"
      ]
     },
     "metadata": {},
     "output_type": "display_data"
    }
   ],
   "source": [
    "%%render\n",
    "a = 3\n",
    "b = 4\n",
    "c = a*b*2\n",
    "c"
   ]
  },
  {
   "cell_type": "code",
   "execution_count": 43,
   "metadata": {},
   "outputs": [],
   "source": [
    "from math import sqrt, sin, pi"
   ]
  },
  {
   "cell_type": "code",
   "execution_count": 61,
   "metadata": {},
   "outputs": [
    {
     "data": {
      "text/latex": [
       "\\[\n",
       "\\begin{aligned}\n",
       "d &= \\sqrt{ a } + \\sin{ \\left( b \\right) } + \\pi + \\sqrt{ a } = \\sqrt{ 3 } + \\sin{ \\left( 4 \\right) } + 3.142 + \\sqrt{ 3 } &= 5.849\\;\\;\\textrm{(this is d)}\n",
       "\\\\[10pt]\n",
       "e &= \\sin{ \\left( b \\right) } + \\pi + \\sqrt{ a } + \\sin{ \\left( b \\right) } + \\pi = \\sin{ \\left( 4 \\right) } + 3.142 + \\sqrt{ 3 } + \\sin{ \\left( 4 \\right) } + 3.142 &= 6.502\\;\\;\\textrm{(this e)}\n",
       "\\end{aligned}\n",
       "\\]"
      ],
      "text/plain": [
       "<IPython.core.display.Latex object>"
      ]
     },
     "metadata": {},
     "output_type": "display_data"
    }
   ],
   "source": [
    "%%render\n",
    "d = sqrt(a) + sin(b) + pi + sqrt(a)  # this is d\n",
    "e = sin(b) + pi + sqrt(a) + sin(b) + pi # this e"
   ]
  },
  {
   "cell_type": "markdown",
   "metadata": {},
   "source": [
    "\\[\n",
    "\\begin{aligned}\n",
    "d &= \\sqrt{ a } + \\sin{ \\left( b \\right) } + \\pi + \\sqrt{ a } + \\sin{ \\left( b \\right) } + \\pi + \\sqrt{ a } + \\sin{ \\left( b \\right) } + \\pi \\\\&= \\sqrt{ 3 } + \\sin{ \\left( 4 \\right) } + 3.142 + \\sqrt{ 3 } + \\sin{ \\left( 4 \\right) } + 3.142 + \\sqrt{ 3 } + \\sin{ \\left( 4 \\right) } + 3.142 \\\\&= 12.351\\\\\n",
    "\\end{aligned}\n",
    "\\]"
   ]
  },
  {
   "cell_type": "code",
   "execution_count": 70,
   "metadata": {},
   "outputs": [],
   "source": [
    "from handcalcs.decorator import handcalc\n",
    "\n",
    "@handcalc(jupyter_display = True)\n",
    "def some_cal(a,b):\n",
    "    d = sqrt(a) + sin(b) + pi + sqrt(a)  # this is d\n",
    "    e = sin(b) + pi + sqrt(a) + sin(b) + pi # this e\n",
    "    return locals()"
   ]
  },
  {
   "cell_type": "code",
   "execution_count": 71,
   "metadata": {},
   "outputs": [
    {
     "data": {
      "text/latex": [
       "\\[\n",
       "\\begin{aligned}\n",
       "d &= \\sqrt{ a } + \\sin{ \\left( b \\right) } + \\pi + \\sqrt{ a } = \\sqrt{ 1 } + \\sin{ \\left( 2 \\right) } + pi + \\sqrt{ 1 } &= 6.051\\;\\;\\textrm{(this is d)}\n",
       "\\\\[10pt]\n",
       "e &= \\sin{ \\left( b \\right) } + \\pi + \\sqrt{ a } + \\sin{ \\left( b \\right) } + \\pi = \\sin{ \\left( 2 \\right) } + pi + \\sqrt{ 1 } + \\sin{ \\left( 2 \\right) } + pi &= 9.102\\;\\;\\textrm{(this e)}\n",
       "\\end{aligned}\n",
       "\\]"
      ],
      "text/plain": [
       "<IPython.core.display.Latex object>"
      ]
     },
     "metadata": {},
     "output_type": "display_data"
    },
    {
     "data": {
      "text/plain": [
       "{'a': 1, 'b': 2, 'd': 6.050890080415475, 'e': 9.10178016083095}"
      ]
     },
     "execution_count": 71,
     "metadata": {},
     "output_type": "execute_result"
    }
   ],
   "source": [
    "some_cal(1,2)"
   ]
  },
  {
   "cell_type": "code",
   "execution_count": null,
   "metadata": {},
   "outputs": [],
   "source": []
  },
  {
   "cell_type": "code",
   "execution_count": null,
   "metadata": {},
   "outputs": [],
   "source": []
  }
 ],
 "metadata": {
  "kernelspec": {
   "display_name": "Python 3.7.7 64-bit",
   "language": "python",
   "name": "python37764bita3da3130c1a84ed9abf6da54fdeb0dc3"
  },
  "language_info": {
   "codemirror_mode": {
    "name": "ipython",
    "version": 3
   },
   "file_extension": ".py",
   "mimetype": "text/x-python",
   "name": "python",
   "nbconvert_exporter": "python",
   "pygments_lexer": "ipython3",
   "version": "3.7.7"
  }
 },
 "nbformat": 4,
 "nbformat_minor": 4
}
