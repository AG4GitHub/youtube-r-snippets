{
  "nbformat": 4,
  "nbformat_minor": 0,
  "metadata": {
    "colab": {
      "name": "NLP Phonetic Algorithms in Python",
      "provenance": [],
      "collapsed_sections": []
    },
    "kernelspec": {
      "name": "python3",
      "display_name": "Python 3"
    },
    "language_info": {
      "name": "python"
    }
  },
  "cells": [
    {
      "cell_type": "markdown",
      "source": [
        "pyphonetics - https://github.com/Lilykos/pyphonetics"
      ],
      "metadata": {
        "id": "TawEZj8EbkKE"
      }
    },
    {
      "cell_type": "code",
      "execution_count": 1,
      "metadata": {
        "colab": {
          "base_uri": "https://localhost:8080/"
        },
        "id": "_EcsLvQObhUR",
        "outputId": "2075a9b0-0d4b-424c-ba16-59554a884321"
      },
      "outputs": [
        {
          "output_type": "stream",
          "name": "stdout",
          "text": [
            "\u001b[?25l\r\u001b[K     |█▍                              | 10 kB 26.1 MB/s eta 0:00:01\r\u001b[K     |██▉                             | 20 kB 27.1 MB/s eta 0:00:01\r\u001b[K     |████▏                           | 30 kB 31.4 MB/s eta 0:00:01\r\u001b[K     |█████▋                          | 40 kB 26.0 MB/s eta 0:00:01\r\u001b[K     |███████                         | 51 kB 20.2 MB/s eta 0:00:01\r\u001b[K     |████████▍                       | 61 kB 22.9 MB/s eta 0:00:01\r\u001b[K     |█████████▊                      | 71 kB 23.7 MB/s eta 0:00:01\r\u001b[K     |███████████▏                    | 81 kB 22.6 MB/s eta 0:00:01\r\u001b[K     |████████████▌                   | 92 kB 24.3 MB/s eta 0:00:01\r\u001b[K     |██████████████                  | 102 kB 26.0 MB/s eta 0:00:01\r\u001b[K     |███████████████▎                | 112 kB 26.0 MB/s eta 0:00:01\r\u001b[K     |████████████████▊               | 122 kB 26.0 MB/s eta 0:00:01\r\u001b[K     |██████████████████              | 133 kB 26.0 MB/s eta 0:00:01\r\u001b[K     |███████████████████▌            | 143 kB 26.0 MB/s eta 0:00:01\r\u001b[K     |████████████████████▉           | 153 kB 26.0 MB/s eta 0:00:01\r\u001b[K     |██████████████████████▎         | 163 kB 26.0 MB/s eta 0:00:01\r\u001b[K     |███████████████████████▋        | 174 kB 26.0 MB/s eta 0:00:01\r\u001b[K     |█████████████████████████       | 184 kB 26.0 MB/s eta 0:00:01\r\u001b[K     |██████████████████████████▍     | 194 kB 26.0 MB/s eta 0:00:01\r\u001b[K     |███████████████████████████▉    | 204 kB 26.0 MB/s eta 0:00:01\r\u001b[K     |█████████████████████████████▏  | 215 kB 26.0 MB/s eta 0:00:01\r\u001b[K     |██████████████████████████████▋ | 225 kB 26.0 MB/s eta 0:00:01\r\u001b[K     |████████████████████████████████| 235 kB 26.0 MB/s eta 0:00:01\r\u001b[K     |████████████████████████████████| 235 kB 26.0 MB/s \n",
            "\u001b[?25h"
          ]
        }
      ],
      "source": [
        "pip install pyphonetics -q "
      ]
    },
    {
      "cell_type": "code",
      "source": [
        "from pyphonetics import Soundex"
      ],
      "metadata": {
        "id": "lT4OHGFNchkg"
      },
      "execution_count": 15,
      "outputs": []
    },
    {
      "cell_type": "code",
      "source": [
        "snd = Soundex()"
      ],
      "metadata": {
        "id": "YeqrG5eVghC2"
      },
      "execution_count": 16,
      "outputs": []
    },
    {
      "cell_type": "code",
      "source": [
        "snd.phonetics(\"two\")"
      ],
      "metadata": {
        "colab": {
          "base_uri": "https://localhost:8080/",
          "height": 35
        },
        "id": "vEHCGNOBglCt",
        "outputId": "02cffe70-7f22-49fb-b2f3-c6cfc7810052"
      },
      "execution_count": 17,
      "outputs": [
        {
          "output_type": "execute_result",
          "data": {
            "application/vnd.google.colaboratory.intrinsic+json": {
              "type": "string"
            },
            "text/plain": [
              "'T000'"
            ]
          },
          "metadata": {},
          "execution_count": 17
        }
      ]
    },
    {
      "cell_type": "code",
      "source": [
        "snd.phonetics('to')"
      ],
      "metadata": {
        "colab": {
          "base_uri": "https://localhost:8080/",
          "height": 35
        },
        "id": "6P2FTj4NgogM",
        "outputId": "6dc86efd-fad3-4eae-fab9-5821b27ef6cf"
      },
      "execution_count": 18,
      "outputs": [
        {
          "output_type": "execute_result",
          "data": {
            "application/vnd.google.colaboratory.intrinsic+json": {
              "type": "string"
            },
            "text/plain": [
              "'T000'"
            ]
          },
          "metadata": {},
          "execution_count": 18
        }
      ]
    },
    {
      "cell_type": "code",
      "source": [
        "snd.sounds_like('tree','free')"
      ],
      "metadata": {
        "colab": {
          "base_uri": "https://localhost:8080/"
        },
        "id": "bvIDpRSVgr_U",
        "outputId": "2ed6b7d3-2adc-4e1d-d1a5-384e1b82f8f5"
      },
      "execution_count": 21,
      "outputs": [
        {
          "output_type": "execute_result",
          "data": {
            "text/plain": [
              "False"
            ]
          },
          "metadata": {},
          "execution_count": 21
        }
      ]
    },
    {
      "cell_type": "code",
      "source": [
        "from pyphonetics import Metaphone"
      ],
      "metadata": {
        "id": "zcO_YyN0gz5I"
      },
      "execution_count": 22,
      "outputs": []
    },
    {
      "cell_type": "code",
      "source": [
        "mp = Metaphone()"
      ],
      "metadata": {
        "id": "gmVXFubIg-fG"
      },
      "execution_count": 23,
      "outputs": []
    },
    {
      "cell_type": "code",
      "source": [
        "mp.sounds_like('Backers street','Bakers street')"
      ],
      "metadata": {
        "colab": {
          "base_uri": "https://localhost:8080/"
        },
        "id": "s2syICBthA1S",
        "outputId": "b51715a3-a6df-4a8d-ce55-f5488dde8b1f"
      },
      "execution_count": 26,
      "outputs": [
        {
          "output_type": "execute_result",
          "data": {
            "text/plain": [
              "False"
            ]
          },
          "metadata": {},
          "execution_count": 26
        }
      ]
    },
    {
      "cell_type": "code",
      "source": [
        "mp.phonetics('Backers street')"
      ],
      "metadata": {
        "colab": {
          "base_uri": "https://localhost:8080/",
          "height": 35
        },
        "id": "D6vkAClKhE44",
        "outputId": "9e265b3b-1cb6-4b37-e954-8c5f898d8446"
      },
      "execution_count": 27,
      "outputs": [
        {
          "output_type": "execute_result",
          "data": {
            "application/vnd.google.colaboratory.intrinsic+json": {
              "type": "string"
            },
            "text/plain": [
              "'BKKRSTRT'"
            ]
          },
          "metadata": {},
          "execution_count": 27
        }
      ]
    },
    {
      "cell_type": "code",
      "source": [
        "mp.phonetics('Bakers street')"
      ],
      "metadata": {
        "colab": {
          "base_uri": "https://localhost:8080/",
          "height": 35
        },
        "id": "Su7ejuHnhWHP",
        "outputId": "55e80556-7ec6-4b9d-e9ad-24bfc21e7b16"
      },
      "execution_count": 28,
      "outputs": [
        {
          "output_type": "execute_result",
          "data": {
            "application/vnd.google.colaboratory.intrinsic+json": {
              "type": "string"
            },
            "text/plain": [
              "'BKRSTRT'"
            ]
          },
          "metadata": {},
          "execution_count": 28
        }
      ]
    },
    {
      "cell_type": "code",
      "source": [
        "from pyphonetics import RefinedSoundex"
      ],
      "metadata": {
        "id": "hhIVgqbmhXSn"
      },
      "execution_count": 29,
      "outputs": []
    },
    {
      "cell_type": "code",
      "source": [
        "rsnd = RefinedSoundex()"
      ],
      "metadata": {
        "id": "XNcZF4UuhuaX"
      },
      "execution_count": 30,
      "outputs": []
    },
    {
      "cell_type": "code",
      "source": [
        "rsnd.distance('break','brake', metric = 'levenshtein')"
      ],
      "metadata": {
        "colab": {
          "base_uri": "https://localhost:8080/"
        },
        "id": "PnzXtQ-DhxUr",
        "outputId": "b08e8abf-3153-44e5-c0c9-3b4a19c06283"
      },
      "execution_count": 37,
      "outputs": [
        {
          "output_type": "execute_result",
          "data": {
            "text/plain": [
              "1"
            ]
          },
          "metadata": {},
          "execution_count": 37
        }
      ]
    },
    {
      "cell_type": "code",
      "source": [
        ""
      ],
      "metadata": {
        "id": "vYXb2143h5Bd"
      },
      "execution_count": null,
      "outputs": []
    }
  ]
}