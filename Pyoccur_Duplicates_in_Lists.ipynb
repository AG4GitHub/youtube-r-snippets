{
  "nbformat": 4,
  "nbformat_minor": 0,
  "metadata": {
    "colab": {
      "name": "Pyoccur - Duplicates in Lists",
      "provenance": []
    },
    "kernelspec": {
      "name": "python3",
      "display_name": "Python 3"
    },
    "language_info": {
      "name": "python"
    }
  },
  "cells": [
    {
      "cell_type": "code",
      "execution_count": 1,
      "metadata": {
        "colab": {
          "base_uri": "https://localhost:8080/"
        },
        "id": "uorlgytGJNmb",
        "outputId": "c406838d-492f-461f-b3be-e00acd030316"
      },
      "outputs": [
        {
          "output_type": "stream",
          "name": "stdout",
          "text": [
            "Collecting pyoccur\n",
            "  Downloading pyoccur-0.1.0-py3-none-any.whl (2.0 kB)\n",
            "Installing collected packages: pyoccur\n",
            "Successfully installed pyoccur-0.1.0\n"
          ]
        }
      ],
      "source": [
        "! pip install pyoccur"
      ]
    },
    {
      "cell_type": "code",
      "source": [
        "from pyoccur import pyoccur"
      ],
      "metadata": {
        "id": "gEzUflJJJadL"
      },
      "execution_count": 17,
      "outputs": []
    },
    {
      "cell_type": "code",
      "source": [
        "first_list = ['abc',123,'def','abc',22,10]"
      ],
      "metadata": {
        "id": "wZkA2EdIMu63"
      },
      "execution_count": 13,
      "outputs": []
    },
    {
      "cell_type": "code",
      "source": [
        "second_list = [{'abc':100},'wee',123,{'abc':100},'abc',123,{'a':1,'b':2},'abc']"
      ],
      "metadata": {
        "id": "5NxQEeF9JR27"
      },
      "execution_count": 21,
      "outputs": []
    },
    {
      "cell_type": "markdown",
      "source": [
        "Detect Duplicates in Python List - Simple"
      ],
      "metadata": {
        "id": "NpsKBJQ6M-Ze"
      }
    },
    {
      "cell_type": "code",
      "source": [
        "pyoccur.has_dup(first_list)"
      ],
      "metadata": {
        "colab": {
          "base_uri": "https://localhost:8080/"
        },
        "id": "9EHWnb9jJbWt",
        "outputId": "5ef80d73-e57b-4feb-acae-5989d14b930b"
      },
      "execution_count": 18,
      "outputs": [
        {
          "output_type": "execute_result",
          "data": {
            "text/plain": [
              "True"
            ]
          },
          "metadata": {},
          "execution_count": 18
        }
      ]
    },
    {
      "cell_type": "markdown",
      "source": [
        "Get the Duplicates"
      ],
      "metadata": {
        "id": "USNt9bgnNFC6"
      }
    },
    {
      "cell_type": "code",
      "source": [
        "pyoccur.get_dup(first_list)"
      ],
      "metadata": {
        "colab": {
          "base_uri": "https://localhost:8080/"
        },
        "id": "rkLuGoXYJcjJ",
        "outputId": "60129e13-2664-4fb0-e0d8-12186c3816b5"
      },
      "execution_count": 19,
      "outputs": [
        {
          "output_type": "execute_result",
          "data": {
            "text/plain": [
              "['abc']"
            ]
          },
          "metadata": {},
          "execution_count": 19
        }
      ]
    },
    {
      "cell_type": "code",
      "source": [
        "pyoccur.get_dup(second_list)"
      ],
      "metadata": {
        "colab": {
          "base_uri": "https://localhost:8080/"
        },
        "id": "p-R40k1BJhns",
        "outputId": "50b789be-435b-425f-cabe-758117d256e5"
      },
      "execution_count": 22,
      "outputs": [
        {
          "output_type": "execute_result",
          "data": {
            "text/plain": [
              "[{'abc': 100}, 123, 'abc']"
            ]
          },
          "metadata": {},
          "execution_count": 22
        }
      ]
    },
    {
      "cell_type": "code",
      "source": [
        "second_list_dedup = pyoccur.remove_dup(second_list)"
      ],
      "metadata": {
        "id": "AhINmdExNj8d"
      },
      "execution_count": 24,
      "outputs": []
    },
    {
      "cell_type": "code",
      "source": [
        "second_list"
      ],
      "metadata": {
        "colab": {
          "base_uri": "https://localhost:8080/"
        },
        "id": "VmooH11MNtTj",
        "outputId": "49261f1a-23f6-482f-9fb5-be229f0fd0ee"
      },
      "execution_count": 26,
      "outputs": [
        {
          "output_type": "execute_result",
          "data": {
            "text/plain": [
              "[{'abc': 100}, 'wee', 123, {'abc': 100}, 'abc', 123, {'a': 1, 'b': 2}, 'abc']"
            ]
          },
          "metadata": {},
          "execution_count": 26
        }
      ]
    },
    {
      "cell_type": "code",
      "source": [
        "second_list_dedup"
      ],
      "metadata": {
        "colab": {
          "base_uri": "https://localhost:8080/"
        },
        "id": "5gtaelv9NrXR",
        "outputId": "5fbedff6-4a51-456f-86df-2191c4bdce3e"
      },
      "execution_count": 25,
      "outputs": [
        {
          "output_type": "execute_result",
          "data": {
            "text/plain": [
              "[{'abc': 100}, 'wee', 123, 'abc', {'a': 1, 'b': 2}]"
            ]
          },
          "metadata": {},
          "execution_count": 25
        }
      ]
    },
    {
      "cell_type": "code",
      "source": [
        "# https://stackoverflow.com/questions/55735009/removing-duplicate-dataframes-in-a-list\n",
        "\n",
        "import pandas as pd\n",
        "import numpy as np\n",
        "##Creating Dataframes\n",
        "data1_1 =[[1,2018,80], [2,2018,70]]\n",
        "\n",
        "data1_2 =  [[1,2017,77], [3,2017,62]]\n",
        "\n",
        "\n",
        "df1 = pd.DataFrame(data1_1, columns = ['ID', 'Year', 'Score'])\n",
        "df2 = pd.DataFrame(data1_2, columns = ['ID', 'Year', 'Score'])\n",
        "\n",
        "\n",
        "###Creating list with duplicates\n",
        "all_df_list = [df1,df1,df1,df2]"
      ],
      "metadata": {
        "id": "X1C7u98pJpG_"
      },
      "execution_count": 31,
      "outputs": []
    },
    {
      "cell_type": "code",
      "source": [
        "all_df_list"
      ],
      "metadata": {
        "colab": {
          "base_uri": "https://localhost:8080/"
        },
        "id": "BPWEcRNSKwuM",
        "outputId": "dda46b85-a308-47e9-9eb4-43d9c4188615"
      },
      "execution_count": 32,
      "outputs": [
        {
          "output_type": "execute_result",
          "data": {
            "text/plain": [
              "[   ID  Year  Score\n",
              " 0   1  2018     80\n",
              " 1   2  2018     70,    ID  Year  Score\n",
              " 0   1  2018     80\n",
              " 1   2  2018     70,    ID  Year  Score\n",
              " 0   1  2018     80\n",
              " 1   2  2018     70,    ID  Year  Score\n",
              " 0   1  2017     77\n",
              " 1   3  2017     62]"
            ]
          },
          "metadata": {},
          "execution_count": 32
        }
      ]
    },
    {
      "cell_type": "code",
      "source": [
        "pyoccur.has_dup(all_df_list)"
      ],
      "metadata": {
        "colab": {
          "base_uri": "https://localhost:8080/"
        },
        "id": "FHK-LiKTKxg1",
        "outputId": "b5fa91fc-3e53-4db9-c222-f2164ff23e0c"
      },
      "execution_count": 33,
      "outputs": [
        {
          "output_type": "execute_result",
          "data": {
            "text/plain": [
              "True"
            ]
          },
          "metadata": {},
          "execution_count": 33
        }
      ]
    },
    {
      "cell_type": "code",
      "source": [
        "pyoccur.get_dup(all_df_list)"
      ],
      "metadata": {
        "colab": {
          "base_uri": "https://localhost:8080/"
        },
        "id": "mwhMCquCK0lt",
        "outputId": "4fcf414d-53f2-491c-e1ea-94507ac6a9d3"
      },
      "execution_count": 34,
      "outputs": [
        {
          "output_type": "execute_result",
          "data": {
            "text/plain": [
              "[   ID  Year  Score\n",
              " 0   1  2018     80\n",
              " 1   2  2018     70]"
            ]
          },
          "metadata": {},
          "execution_count": 34
        }
      ]
    },
    {
      "cell_type": "code",
      "source": [
        "pyoccur.remove_dup(all_df_list)"
      ],
      "metadata": {
        "colab": {
          "base_uri": "https://localhost:8080/"
        },
        "id": "zgvaCD2VK4uP",
        "outputId": "06675b3c-98fc-42f8-c625-7f03b633f2de"
      },
      "execution_count": 35,
      "outputs": [
        {
          "output_type": "execute_result",
          "data": {
            "text/plain": [
              "[   ID  Year  Score\n",
              " 0   1  2018     80\n",
              " 1   2  2018     70,    ID  Year  Score\n",
              " 0   1  2017     77\n",
              " 1   3  2017     62]"
            ]
          },
          "metadata": {},
          "execution_count": 35
        }
      ]
    }
  ]
}